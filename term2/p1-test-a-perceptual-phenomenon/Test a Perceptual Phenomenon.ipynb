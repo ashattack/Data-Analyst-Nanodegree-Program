{
 "cells": [
  {
   "cell_type": "markdown",
   "metadata": {},
   "source": [
    "### Analyzing the Stroop Effect\n",
    "Perform the analysis in the space below. Remember to follow [the instructions](https://docs.google.com/document/d/1-OkpZLjG_kX9J6LIQ5IltsqMzVWjh36QpnP2RYpVdPU/pub?embedded=True) and review the [project rubric](https://review.udacity.com/#!/rubrics/71/view) before submitting. Once you've completed the analysis and write-up, download this file as a PDF or HTML file, upload that PDF/HTML into the workspace here (click on the orange Jupyter icon in the upper left then Upload), then use the Submit Project button at the bottom of this page. This will create a zip file containing both this .ipynb doc and the PDF/HTML doc that will be submitted for your project.\n",
    "\n",
    "\n",
    "(1) What is the independent variable? What is the dependent variable?"
   ]
  },
  {
   "cell_type": "markdown",
   "metadata": {},
   "source": [
    "Independent variable: the word condition, whether it is congruent or incongruent.\n",
    "\n",
    "Dependant variable: the time it takes to say the word's color."
   ]
  },
  {
   "cell_type": "markdown",
   "metadata": {},
   "source": [
    "(2) What is an appropriate set of hypotheses for this task? Specify your null and alternative hypotheses, and clearly define any notation used. Justify your choices."
   ]
  },
  {
   "cell_type": "markdown",
   "metadata": {},
   "source": [
    "The null hypothesis should be the hypothesis we want to reject. In this case, our null hypothesis should be that the mean reaction time for congruent words is equal to or greater than the mean reaction time for incongruent words. This is a one-tailed test.\n",
    "\n",
    "The alternative hypothesis is that the mean reaction time for congruent words less than the mean reaction time for incongruent words\n",
    "\n",
    "H0: μC ≥ μI\n",
    "\n",
    "HA: μC < μI\n",
    "\n",
    "μC - mean reaction time for congruent word colors\n",
    "μI - mean reaction time for incongruent word colors\n",
    "\n",
    "We will be using a t-statistic to test our hypothesis, because the sample size is less than 30. A z-statistic would be inappropirate because the distrubution can no longer be approximated to be normal when the sample size is less than 30. Also, the population mean and variance is unknown.\n",
    "\n",
    "This is a paired t-test. This is why we are using the delta betwen both congruent and incongruent reaction times. A paired t-test is used when we want to compare two populations that have observations that can be paired with each other."
   ]
  },
  {
   "cell_type": "markdown",
   "metadata": {},
   "source": [
    "(3) Report some descriptive statistics regarding this dataset. Include at least one measure of central tendency and at least one measure of variability. The name of the data file is 'stroopdata.csv'."
   ]
  },
  {
   "cell_type": "code",
   "execution_count": 8,
   "metadata": {},
   "outputs": [
    {
     "name": "stdout",
     "output_type": "stream",
     "text": [
      "(7.964791666666667, 4.762398030222158)\n"
     ]
    },
    {
     "data": {
      "text/plain": [
       "(24, 3)"
      ]
     },
     "execution_count": 8,
     "metadata": {},
     "output_type": "execute_result"
    }
   ],
   "source": [
    "import pandas as pd\n",
    "import numpy as np\n",
    "import scipy\n",
    "from scipy import stats\n",
    "import matplotlib\n",
    "import matplotlib.pyplot as plt\n",
    "%matplotlib inline\n",
    "\n",
    "#Import the data\n",
    "df=pd.read_csv('stroopdata.csv')\n",
    "#df.head()\n",
    "\n",
    "#Add a delta column\n",
    "df['Delta']=df['Incongruent'] - df['Congruent']\n",
    "#df.head()\n",
    "\n",
    "#Analyze data\n",
    "delta_stats = np.mean(df['Delta']), np.std(df['Delta'])\n",
    "print(delta_stats)\n",
    "df.shape"
   ]
  },
  {
   "cell_type": "markdown",
   "metadata": {},
   "source": [
    "Central tendency: Delta mean is about 8secs\n",
    "Variability: Delta standard deviation is 4.8secs"
   ]
  },
  {
   "cell_type": "markdown",
   "metadata": {},
   "source": [
    "(4) Provide one or two visualizations that show the distribution of the sample data. Write one or two sentences noting what you observe about the plot or plots."
   ]
  },
  {
   "cell_type": "code",
   "execution_count": 7,
   "metadata": {},
   "outputs": [
    {
     "data": {
      "image/png": "[encoded data removed]",
      "text/plain": [
       "<matplotlib.figure.Figure at 0x10d46c5f8>"
      ]
     },
     "metadata": {},
     "output_type": "display_data"
    }
   ],
   "source": [
    "import seaborn as sb\n",
    "\n",
    "plt.xlabel(\"Delta(secs)\")\n",
    "plt.ylabel(\"Frequency\")\n",
    "plt.title(\"Delta between Incongruent and Congruent reaction times\")\n",
    "ax = sb.distplot(df['Delta'])"
   ]
  },
  {
   "cell_type": "markdown",
   "metadata": {},
   "source": [
    "There is a definite skrew to the right side of 0, suggested that the incongruent reactions times are usually longer, giving basis to the alternative hypothesis."
   ]
  },
  {
   "cell_type": "markdown",
   "metadata": {},
   "source": [
    "(5)  Now, perform the statistical test and report your results. What is your confidence level or Type I error associated with your test? What is your conclusion regarding the hypotheses you set up? Did the results match up with your expectations? **Hint:**  Think about what is being measured on each individual, and what statistic best captures how an individual reacts in each environment."
   ]
  },
  {
   "cell_type": "code",
   "execution_count": 13,
   "metadata": {},
   "outputs": [
    {
     "name": "stdout",
     "output_type": "stream",
     "text": [
      "-8.020706944109959\n"
     ]
    }
   ],
   "source": [
    "# Perform the statistical test here\n",
    "t_test = (0-np.mean(df['Delta']))/(np.std(df['Delta'])/23**0.5)\n",
    "print(t_test)"
   ]
  },
  {
   "cell_type": "markdown",
   "metadata": {},
   "source": [
    "Assume:\n",
    "\n",
    "Confidence interval of: 99%\n",
    "Type 1 error: 0.01%\n",
    "Population size(n)= 24\n",
    "Degrees of freedom (n-1) = 23\n",
    "t_test = -8.02\n",
    "t_threshold = -2.5\n",
    "https://en.wikipedia.org/wiki/Student%27s_t-distribution\n",
    "\n",
    "Since t test value is significantly lower than that t treshold for a one-sided t-test given 23 degrees of freedom, we can reject the null hypothesis."
   ]
  },
  {
   "cell_type": "markdown",
   "metadata": {},
   "source": [
    "(6) Optional: What do you think is responsible for the effects observed? Can you think of an alternative or similar task that would result in a similar effect? Some research about the problem will be helpful for thinking about these two questions!"
   ]
  },
  {
   "cell_type": "markdown",
   "metadata": {},
   "source": [
    "This test is based on the way people read the words. The change in color that is incogurent with the words causes the brain to get confused, which slows down reaction time. I found that concentrating on the edge or middle of the word helped my reaction time."
   ]
  },
  {
   "cell_type": "markdown",
   "metadata": {},
   "source": [
    "Sources:\n",
    "[1] t-table: https://en.wikipedia.org/wiki/Student%27s_t-distribution\n",
    "[2] z-statistics vs. t-statistics: https://www.khanacademy.org/math/statistics-probability/significance-tests-one-sample/more-significance-testing-videos/v/small-sample-hypothesis-test"
   ]
  }
 ],
 "metadata": {
  "kernelspec": {
   "display_name": "Python [default]",
   "language": "python",
   "name": "python3"
  },
  "language_info": {
   "codemirror_mode": {
    "name": "ipython",
    "version": 3
   },
   "file_extension": ".py",
   "mimetype": "text/x-python",
   "name": "python",
   "nbconvert_exporter": "python",
   "pygments_lexer": "ipython3",
   "version": "3.6.3"
  }
 },
 "nbformat": 4,
 "nbformat_minor": 2
}
